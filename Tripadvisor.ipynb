{
 "cells": [
  {
   "cell_type": "markdown",
   "metadata": {},
   "source": [
    "# Tripadvisor data"
   ]
  },
  {
   "cell_type": "markdown",
   "metadata": {},
   "source": [
    "## Description"
   ]
  },
  {
   "cell_type": "markdown",
   "metadata": {},
   "source": [
    "This notebook is used for getting Tripanvisor geodata via site's API\n",
    "\n",
    "https://www.tripadvisor.com/data/1.0/maps/alsoShow/boundingBox.\n",
    "\n",
    "**API required parameters**:\n",
    "\n",
    "- bounding box coordinates\n",
    "- number of results to display for each object category (default value - 20)\n",
    "- rc - unknown parameter, left empty by default\n",
    "\n",
    "**Output parameters**:\n",
    "\n",
    "- geographical coordinates (`lat`, `lon`, projection: `EPSG:4326`)\n",
    "- `id`\n",
    "- `name`\n",
    "- `entityType` - main type of object (hotel, restaurant, attraction)\n",
    "- `bubbleRating` - place rating, [0, 50], step - 5\n",
    "- `numReviews` - number of reviews on Tripadvisor\n",
    "- `detailUrl` - relative URL of the entity, gives access for rewiews' texts\n",
    "\n",
    "Other parameters differdepending on `entityType` field value."
   ]
  },
  {
   "cell_type": "markdown",
   "metadata": {},
   "source": [
    "## Required imports"
   ]
  },
  {
   "cell_type": "code",
   "execution_count": 54,
   "metadata": {},
   "outputs": [],
   "source": [
    "import pandas as pd\n",
    "import requests\n",
    "from tqdm import tqdm\n",
    "import numpy as np\n",
    "import geopandas as gpd\n",
    "import time\n",
    "import json\n",
    "\n",
    "tripadvisor_map = 'https://www.tripadvisor.com/data/1.0/maps/alsoShow/boundingBox'"
   ]
  },
  {
   "cell_type": "markdown",
   "metadata": {},
   "source": [
    "# Functions"
   ]
  },
  {
   "cell_type": "markdown",
   "metadata": {},
   "source": [
    "## Geocoding and grid generation"
   ]
  },
  {
   "cell_type": "code",
   "execution_count": 82,
   "metadata": {},
   "outputs": [],
   "source": [
    "import geocoder\n",
    "from math import cos, radians, ceil\n",
    "\n",
    "\n",
    "\n",
    "def gcode_osm(address):\n",
    "    \"\"\"\n",
    "    Sends request to Nominatim geocoding server, returns `dict` with data, else returns NaN\n",
    "    \"\"\"\n",
    "    try:\n",
    "        response = geocoder.osm(address).json\n",
    "    except Exception as e:\n",
    "        print(e)\n",
    "        response = None\n",
    "    return response\n",
    "        \n",
    "\n",
    "def getLocation(response):\n",
    "    \"\"\"\n",
    "    Returns city location\n",
    "    \"\"\"\n",
    "    try:\n",
    "        lat, lon = response['lat'], response['lng']\n",
    "    except:\n",
    "        lat = lon = None\n",
    "    return lat, lon\n",
    "\n",
    "def lon_step(lat, margin):\n",
    "    \"\"\"\n",
    "    Returns longitude step for cells on the current latitude\n",
    "    \"\"\"\n",
    "    lon_step = margin / (cos(radians(lat)) * 111.3 * 1000)\n",
    "    return lon_step\n",
    "    \n",
    "\n",
    "CELL_SIDE = 500    \n",
    "LAT_STEP = CELL_SIDE / (111.1 * 1000)\n",
    "\n",
    "DEG_CONST_LAT = 5000 / (111.1 * 1000)\n",
    "\n",
    "def getBBox(response):\n",
    "    \"\"\"\n",
    "    Returns city bounding box\n",
    "    \"\"\"\n",
    "    try:\n",
    "        bbox = response['bbox']\n",
    "        maxx, maxy = bbox['northeast'][1], bbox['northeast'][0]\n",
    "        minx, miny = bbox['southwest'][1], bbox['southwest'][0]\n",
    "    except:\n",
    "        lat, lon = getLocation(response)\n",
    "        \n",
    "        DEG_CONST_LON = lon_step(lat, 5000)\n",
    "        \n",
    "        maxx, minx = lon + DEG_CONST_LON, lon - DEG_CONST_LON\n",
    "        maxy, miny = lat + DEG_CONST_LAT, lat - DEG_CONST_LAT\n",
    "    bbox = {'miny' : miny, 'minx' : minx, 'maxy' : maxy, 'maxx' : maxx}\n",
    "    return bbox\n",
    "\n",
    "def createGrid(bbox, latitude_step, longitude_step):\n",
    "    grid = pd.DataFrame()\n",
    "    for i in np.arange(bbox['miny'], bbox['maxy'] + latitude_step, latitude_step): # rows\n",
    "        for j in np.arange(bbox['minx'], bbox['maxx'] + longitude_step, longitude_step): # cols\n",
    "            grid = grid.append(pd.Series({'miny' : i, 'minx' : j, 'maxy' : i + latitude_step, 'maxx' : j + longitude_step}), ignore_index = True)\n",
    "    grid['id'] = pd.Series([str(int(i)) for i in range(0, len(grid))])\n",
    "    return grid"
   ]
  },
  {
   "cell_type": "markdown",
   "metadata": {},
   "source": [
    "## Tripadvisor API requests"
   ]
  },
  {
   "cell_type": "code",
   "execution_count": 71,
   "metadata": {},
   "outputs": [],
   "source": [
    "def trip_request(miny, minx, maxy, maxx):\n",
    "    params = {\n",
    "        'minLat' : miny,\n",
    "        'minLng' : minx,\n",
    "        'maxLat' : maxy,\n",
    "        'maxLng' : maxx,\n",
    "        'hotelCount' : 0,\n",
    "        'attractionCount' : 0,\n",
    "        'restaurantCount' : 300,\n",
    "        'rc' : ''\n",
    "    }\n",
    "    \n",
    "    ta_result = requests.get(tripadvisor_map, params = params).json()\n",
    "    \n",
    "    return ta_result"
   ]
  },
  {
   "cell_type": "code",
   "execution_count": 72,
   "metadata": {},
   "outputs": [],
   "source": [
    "def basic_parce(obj):\n",
    "    uid = obj['id']\n",
    "    name = obj['name']\n",
    "    entityType = obj['entityType']\n",
    "    rating = obj['bubbleRating']\n",
    "    number_of_reviews = obj['numReviews']\n",
    "    \n",
    "    geo = obj['geoPoint']\n",
    "    lat, lon = geo['latitude'], geo['longitude']\n",
    "    detail_url = obj['detailUrl']\n",
    "    try:\n",
    "        thumbnail = obj['thumbnail']\n",
    "        helpful_reviews, date_publish, date_upload = thumbnail['helpful_votes'], thumbnail['published_date'], thumbnail['uploaded_date']\n",
    "    except:\n",
    "        helpful_reviews = date_publish = date_upload = None\n",
    "        \n",
    "    return [uid, name, entityType, rating, number_of_reviews, helpful_reviews, date_publish, date_upload, detail_url, lat, lon]"
   ]
  },
  {
   "cell_type": "code",
   "execution_count": 73,
   "metadata": {},
   "outputs": [],
   "source": [
    "def selective_parce(obj, major_cat):\n",
    "    if major_cat == 'restaurants':\n",
    "        raw_cuisines, cuisines = obj['cuisines'], []\n",
    "        for cuis in raw_cuisines:\n",
    "            cuisines.append(cuis['name'])\n",
    "        cuisines = '|'.join(cuisines)\n",
    "        price = obj['priceString']\n",
    "        \n",
    "        return [cuisines, price]\n",
    "    \n",
    "    elif major_cat == 'attractions':\n",
    "        category = obj['category']\n",
    "        openHours = obj['openHours']\n",
    "\n",
    "        return [category,openHours] \n",
    "    else:\n",
    "        popularity = obj['popIndexText'].replace(' ','').replace('of','/').replace('Moscowhotels','').replace('#','')\n",
    "        accommodationCategory = obj['accommodationCategory']\n",
    "        offers = obj['offers']\n",
    "        \n",
    "        return [accommodationCategory,offers,popularity]"
   ]
  },
  {
   "cell_type": "code",
   "execution_count": 74,
   "metadata": {},
   "outputs": [],
   "source": [
    "common_names = ['uid', 'name', 'entityType', 'rating', 'number_of_reviews', 'helpful_reviews', 'date_publish', 'date_upload', 'detail_url', 'lat', 'lon']\n",
    "\n",
    "rules_of_naming = {\n",
    "    'restaurants' : common_names + ['cuisines', 'price'],\n",
    "    'attractions' : common_names + ['category', 'openHours'],\n",
    "    'hotels' : common_names + ['accommodationCategory', 'offers', 'popularity']\n",
    "}"
   ]
  },
  {
   "cell_type": "markdown",
   "metadata": {},
   "source": [
    "# Working with Tripadvisor API"
   ]
  },
  {
   "cell_type": "code",
   "execution_count": 97,
   "metadata": {},
   "outputs": [],
   "source": [
    "cities_total = pd.read_excel('D:/data_projects/japanFood_worldwide/cities_list.xlsx', sheet_name= None)"
   ]
  },
  {
   "cell_type": "code",
   "execution_count": 99,
   "metadata": {},
   "outputs": [
    {
     "data": {
      "text/plain": [
       "odict_keys(['Europe', 'Africa', 'NA', 'SA', 'Asia', 'Oceania', 'Russia', 'China'])"
      ]
     },
     "execution_count": 99,
     "metadata": {},
     "output_type": "execute_result"
    }
   ],
   "source": [
    "cities_total.keys()"
   ]
  },
  {
   "cell_type": "markdown",
   "metadata": {},
   "source": [
    "## CHOOSE REGION"
   ]
  },
  {
   "cell_type": "code",
   "execution_count": null,
   "metadata": {},
   "outputs": [],
   "source": [
    "reg = ''"
   ]
  },
  {
   "cell_type": "code",
   "execution_count": 109,
   "metadata": {},
   "outputs": [
    {
     "data": {
      "text/html": [
       "<div>\n",
       "<style scoped>\n",
       "    .dataframe tbody tr th:only-of-type {\n",
       "        vertical-align: middle;\n",
       "    }\n",
       "\n",
       "    .dataframe tbody tr th {\n",
       "        vertical-align: top;\n",
       "    }\n",
       "\n",
       "    .dataframe thead th {\n",
       "        text-align: right;\n",
       "    }\n",
       "</style>\n",
       "<table border=\"1\" class=\"dataframe\">\n",
       "  <thead>\n",
       "    <tr style=\"text-align: right;\">\n",
       "      <th></th>\n",
       "      <th>region</th>\n",
       "      <th>country</th>\n",
       "      <th>city</th>\n",
       "      <th>population</th>\n",
       "      <th>address</th>\n",
       "    </tr>\n",
       "  </thead>\n",
       "  <tbody>\n",
       "    <tr>\n",
       "      <th>0</th>\n",
       "      <td>Asia</td>\n",
       "      <td>china</td>\n",
       "      <td>guangzhou</td>\n",
       "      <td>45600000</td>\n",
       "      <td>guangzhou, china</td>\n",
       "    </tr>\n",
       "    <tr>\n",
       "      <th>1</th>\n",
       "      <td>Asia</td>\n",
       "      <td>china</td>\n",
       "      <td>shanghai</td>\n",
       "      <td>35900000</td>\n",
       "      <td>shanghai, china</td>\n",
       "    </tr>\n",
       "    <tr>\n",
       "      <th>2</th>\n",
       "      <td>Asia</td>\n",
       "      <td>china</td>\n",
       "      <td>beijing</td>\n",
       "      <td>20400000</td>\n",
       "      <td>beijing, china</td>\n",
       "    </tr>\n",
       "    <tr>\n",
       "      <th>3</th>\n",
       "      <td>Asia</td>\n",
       "      <td>china</td>\n",
       "      <td>tianjin</td>\n",
       "      <td>13200000</td>\n",
       "      <td>tianjin, china</td>\n",
       "    </tr>\n",
       "    <tr>\n",
       "      <th>4</th>\n",
       "      <td>Asia</td>\n",
       "      <td>china</td>\n",
       "      <td>xiamen</td>\n",
       "      <td>9900000</td>\n",
       "      <td>xiamen, china</td>\n",
       "    </tr>\n",
       "  </tbody>\n",
       "</table>\n",
       "</div>"
      ],
      "text/plain": [
       "  region country       city  population           address\n",
       "0   Asia   china  guangzhou    45600000  guangzhou, china\n",
       "1   Asia   china   shanghai    35900000   shanghai, china\n",
       "2   Asia   china    beijing    20400000    beijing, china\n",
       "3   Asia   china    tianjin    13200000    tianjin, china\n",
       "4   Asia   china     xiamen     9900000     xiamen, china"
      ]
     },
     "execution_count": 109,
     "metadata": {},
     "output_type": "execute_result"
    }
   ],
   "source": [
    "cities_list = cities_total[reg]\n",
    "cities_list.columns = [i.lower() for i in list(cities_list)]\n",
    "cities_list['country'] = cities_list.country.str.split(' - ').str[0].str.strip().str.lower()\n",
    "cities_list['city'] = cities_list.city.str.lower().str.split('(').str[0].str.replace(r'\\d+', '').str.strip()\n",
    "cities_list['address'] = cities_list.city + ', ' + cities_list.country\n",
    "cities_list.head()"
   ]
  },
  {
   "cell_type": "code",
   "execution_count": 114,
   "metadata": {},
   "outputs": [],
   "source": [
    "def exports(request_list, df_list, address, prelimnary = True):\n",
    "    if prelimnary:\n",
    "        suffix = 'part'\n",
    "    else:\n",
    "        suffix = 'full'\n",
    "        \n",
    "    \n",
    "    df_requests = pd.DataFrame(request_list, columns = ['id', 'request'])\n",
    "\n",
    "    with open(f'D:/data_projects/japanFood_worldwide/raw_data/requests/{address}_{suffix}.json', 'w') as outfile:\n",
    "        json.dump(dict(zip(df_requests['id'], df_requests['request'])), outfile)\n",
    "\n",
    "    data = pd.concat(df_list, sort = True)\n",
    "    data.loc[data['cuisines'] == '[]'] = None\n",
    "\n",
    "    data = data[rules_of_naming['restaurants']]\n",
    "    data.to_csv(f'D:/data_projects/japanFood_worldwide/raw_data/data_tables/{address}_{suffix}.csv', index = None)"
   ]
  },
  {
   "cell_type": "code",
   "execution_count": null,
   "metadata": {},
   "outputs": [],
   "source": [
    "bad_cities = []\n",
    "cities_location = []\n",
    "for i, city in cities_list.iterrows():\n",
    "    address = city['address']\n",
    "    \n",
    "    response = gcode_osm(address)\n",
    "    if not response:\n",
    "        print(f'{address.title()} was not geocoded')\n",
    "        bad_cities.append(address)\n",
    "        continue\n",
    "    lat, lon = getLocation(response)\n",
    "    longitude_step = lon_step(lat, CELL_SIDE)\n",
    "    bbox = getBBox(response)\n",
    "    grid = createGrid(bbox, LAT_STEP, longitude_step)\n",
    "    \n",
    "    cities_location.append([city['city'], city['country'], city['region'], city['population'], lat, lon])\n",
    "    \n",
    "    df_list = []\n",
    "    request_list = []\n",
    "    for i, row in grid.iterrows():\n",
    "        maxx = row.maxx\n",
    "        maxy = row.maxy\n",
    "        minx = row.minx\n",
    "        miny = row.miny\n",
    "\n",
    "\n",
    "        try:\n",
    "            ta_result = trip_request(miny, minx, maxy, maxx) \n",
    "            request_list.append([row.id, ta_result])\n",
    "        except Exception as e:\n",
    "            print (e)\n",
    "#         for major_cat in ['hotels', 'restaurants', 'attractions']:\n",
    "        for major_cat in ['restaurants']:\n",
    "            objects = ta_result[major_cat]\n",
    "            table = []\n",
    "            for obj in objects:\n",
    "                try:\n",
    "                    current_datum = basic_parce(obj) + selective_parce(obj, major_cat)\n",
    "                    table.append(current_datum)\n",
    "                except Exception as e:\n",
    "                    print(e)\n",
    "            df_list.append(pd.DataFrame(table, columns = rules_of_naming[major_cat]))\n",
    "\n",
    "\n",
    "        if i % 100 == 0 and i != 0:\n",
    "            time.sleep(3)\n",
    "            print(f'Prelimnary export for {address.title()}')\n",
    "            exports(request_list, df_list, address, prelimnary = True)\n",
    "\n",
    "    exports(request_list, df_list, address, prelimnary = False)\n",
    "    \n",
    "    print(f'{address.title()} ✅')\n",
    "    \n",
    "cities_list = cities_list[cities_list.address.isin(bad_cities)]\n",
    "\n",
    "if len(cities_list) > 0:\n",
    "    cities_list.to_excel('D:/data_projects/japanFood_worldwide/bad_citiees.xlsx', index = None)\n",
    "    \n",
    "    \n",
    "pd.DataFrame(\n",
    "    cities_location, columns = ['city', 'country', 'region', 'population', 'lat', 'lon']).to_csv(f'D:/data_projects/japanFood_worldwide/gecoded_cities_{reg}.csv', index = None)"
   ]
  }
 ],
 "metadata": {
  "kernelspec": {
   "display_name": "Python 3",
   "language": "python",
   "name": "python3"
  },
  "language_info": {
   "codemirror_mode": {
    "name": "ipython",
    "version": 3
   },
   "file_extension": ".py",
   "mimetype": "text/x-python",
   "name": "python",
   "nbconvert_exporter": "python",
   "pygments_lexer": "ipython3",
   "version": "3.7.3"
  }
 },
 "nbformat": 4,
 "nbformat_minor": 4
}

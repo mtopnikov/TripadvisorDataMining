{
 "cells": [
  {
   "cell_type": "markdown",
   "metadata": {},
   "source": [
    "# Tripadvisor data"
   ]
  },
  {
   "cell_type": "markdown",
   "metadata": {},
   "source": [
    "## Description"
   ]
  },
  {
   "cell_type": "markdown",
   "metadata": {},
   "source": [
    "This notebook is used for getting Tripanvisor geodata via site's API https://www.tripadvisor.com/data/1.0/maps/alsoShow/boundingBox.\n",
    "\n",
    "**API required parameters**:\n",
    "\n",
    "- bounding box coordinates\n",
    "- number of results to display for each object category (default value - 20)\n",
    "- rc - unknown parameter, left empty by default\n",
    "\n",
    "**Output parameters**:\n",
    "\n",
    "- geographical coordinates (`lat`, `lon`, projection: `EPSG:4326`)\n",
    "- `id`\n",
    "- `name`\n",
    "- `entityType` - main type of object (hotel, restaurant, attraction)\n",
    "- `bubbleRating` - place rating, [0, 50], step - 5\n",
    "- `numReviews` - number of reviews on Tripadvisor\n",
    "- `detailUrl` - relative URL of the entity, gives access for rewiews' texts\n",
    "\n",
    "Other parameters differdepending on `entityType` field value."
   ]
  },
  {
   "cell_type": "code",
   "execution_count": null,
   "metadata": {},
   "outputs": [],
   "source": [
    "https://www.tripadvisor.com/data/1.0/maps/alsoShow/boundingBox?minLat=50.033752729003595&minLng=14.352888981931072&maxLat=50.13420851516278&maxLng=14.533820073239669&hotelCount=30&attractionCount=30&restaurantCount=30&rc="
   ]
  },
  {
   "cell_type": "markdown",
   "metadata": {},
   "source": [
    "## Required imports"
   ]
  },
  {
   "cell_type": "code",
   "execution_count": 1,
   "metadata": {},
   "outputs": [],
   "source": [
    "import pandas as pd\n",
    "import requests\n",
    "from tqdm import tqdm\n",
    "import numpy as np\n",
    "import geopandas as gpd\n",
    "import time\n",
    "\n",
    "tripadvisor_map = 'https://www.tripadvisor.com/data/1.0/maps/alsoShow/boundingBox'"
   ]
  },
  {
   "cell_type": "code",
   "execution_count": null,
   "metadata": {},
   "outputs": [],
   "source": []
  },
  {
   "cell_type": "code",
   "execution_count": 5,
   "metadata": {},
   "outputs": [
    {
     "data": {
      "text/html": [
       "<div>\n",
       "<style scoped>\n",
       "    .dataframe tbody tr th:only-of-type {\n",
       "        vertical-align: middle;\n",
       "    }\n",
       "\n",
       "    .dataframe tbody tr th {\n",
       "        vertical-align: top;\n",
       "    }\n",
       "\n",
       "    .dataframe thead th {\n",
       "        text-align: right;\n",
       "    }\n",
       "</style>\n",
       "<table border=\"1\" class=\"dataframe\">\n",
       "  <thead>\n",
       "    <tr style=\"text-align: right;\">\n",
       "      <th></th>\n",
       "      <th>left</th>\n",
       "      <th>top</th>\n",
       "      <th>right</th>\n",
       "      <th>bottom</th>\n",
       "      <th>id</th>\n",
       "      <th>geometry</th>\n",
       "    </tr>\n",
       "  </thead>\n",
       "  <tbody>\n",
       "    <tr>\n",
       "      <th>0</th>\n",
       "      <td>3.272766e+06</td>\n",
       "      <td>8.457557e+06</td>\n",
       "      <td>3.273266e+06</td>\n",
       "      <td>8.457057e+06</td>\n",
       "      <td>1</td>\n",
       "      <td>POLYGON ((29.39976106251813 60.25868251723937,...</td>\n",
       "    </tr>\n",
       "    <tr>\n",
       "      <th>1</th>\n",
       "      <td>3.272766e+06</td>\n",
       "      <td>8.457057e+06</td>\n",
       "      <td>3.273266e+06</td>\n",
       "      <td>8.456557e+06</td>\n",
       "      <td>2</td>\n",
       "      <td>POLYGON ((29.39976106251813 60.25645423802023,...</td>\n",
       "    </tr>\n",
       "    <tr>\n",
       "      <th>2</th>\n",
       "      <td>3.272766e+06</td>\n",
       "      <td>8.456557e+06</td>\n",
       "      <td>3.273266e+06</td>\n",
       "      <td>8.456057e+06</td>\n",
       "      <td>3</td>\n",
       "      <td>POLYGON ((29.39976106251813 60.25422580712826,...</td>\n",
       "    </tr>\n",
       "    <tr>\n",
       "      <th>3</th>\n",
       "      <td>3.272766e+06</td>\n",
       "      <td>8.456057e+06</td>\n",
       "      <td>3.273266e+06</td>\n",
       "      <td>8.455557e+06</td>\n",
       "      <td>4</td>\n",
       "      <td>POLYGON ((29.39976106251813 60.25199722455656,...</td>\n",
       "    </tr>\n",
       "    <tr>\n",
       "      <th>4</th>\n",
       "      <td>3.272766e+06</td>\n",
       "      <td>8.455557e+06</td>\n",
       "      <td>3.273266e+06</td>\n",
       "      <td>8.455057e+06</td>\n",
       "      <td>5</td>\n",
       "      <td>POLYGON ((29.39976106251813 60.24976849029816,...</td>\n",
       "    </tr>\n",
       "  </tbody>\n",
       "</table>\n",
       "</div>"
      ],
      "text/plain": [
       "           left           top         right        bottom  id  \\\n",
       "0  3.272766e+06  8.457557e+06  3.273266e+06  8.457057e+06   1   \n",
       "1  3.272766e+06  8.457057e+06  3.273266e+06  8.456557e+06   2   \n",
       "2  3.272766e+06  8.456557e+06  3.273266e+06  8.456057e+06   3   \n",
       "3  3.272766e+06  8.456057e+06  3.273266e+06  8.455557e+06   4   \n",
       "4  3.272766e+06  8.455557e+06  3.273266e+06  8.455057e+06   5   \n",
       "\n",
       "                                            geometry  \n",
       "0  POLYGON ((29.39976106251813 60.25868251723937,...  \n",
       "1  POLYGON ((29.39976106251813 60.25645423802023,...  \n",
       "2  POLYGON ((29.39976106251813 60.25422580712826,...  \n",
       "3  POLYGON ((29.39976106251813 60.25199722455656,...  \n",
       "4  POLYGON ((29.39976106251813 60.24976849029816,...  "
      ]
     },
     "execution_count": 5,
     "metadata": {},
     "output_type": "execute_result"
    }
   ],
   "source": [
    "bounds = gpd.read_file('/home/mtopnikov/p_piter/tripadvisor/grid_collection.gpkg').geometry.bounds\n",
    "bounds['id'] = pd.Series([i for i in range(len(bounds))])\n",
    "\n",
    "bounds.head()"
   ]
  },
  {
   "cell_type": "markdown",
   "metadata": {},
   "source": [
    "## Functions definition"
   ]
  },
  {
   "cell_type": "code",
   "execution_count": 2,
   "metadata": {},
   "outputs": [],
   "source": [
    "def trip_request(miny, minx, maxy, maxx):\n",
    "    params = {\n",
    "        'minLat' : miny,\n",
    "        'minLng' : minx,\n",
    "        'maxLat' : maxy,\n",
    "        'maxLng' : maxx,\n",
    "        'hotelCount' : 100,\n",
    "        'attractionCount' : 100,\n",
    "        'restaurantCount' : 100,\n",
    "        'rc' : ''\n",
    "    }\n",
    "    \n",
    "    ta_result = requests.get(tripadvisor_map, params = params).json()\n",
    "    \n",
    "    return ta_result"
   ]
  },
  {
   "cell_type": "code",
   "execution_count": 8,
   "metadata": {},
   "outputs": [
    {
     "data": {
      "text/plain": [
       "{'liza': 5, 'misha': {'segzs': 2, 'karta': 3}}"
      ]
     },
     "execution_count": 8,
     "metadata": {},
     "output_type": "execute_result"
    }
   ],
   "source": [
    "dic"
   ]
  },
  {
   "cell_type": "code",
   "execution_count": 9,
   "metadata": {},
   "outputs": [],
   "source": [
    "geo = dic['misha']"
   ]
  },
  {
   "cell_type": "code",
   "execution_count": 10,
   "metadata": {},
   "outputs": [
    {
     "data": {
      "text/plain": [
       "(2, 3)"
      ]
     },
     "execution_count": 10,
     "metadata": {},
     "output_type": "execute_result"
    }
   ],
   "source": [
    "geo['segzs'], geo['karta']"
   ]
  },
  {
   "cell_type": "code",
   "execution_count": 1,
   "metadata": {},
   "outputs": [],
   "source": [
    "def basic_parce(obj):\n",
    "    uid = obj['id']\n",
    "    name = obj['name']\n",
    "    entityType = obj['entityType']\n",
    "    rating = obj['bubbleRating']\n",
    "    number_of_reviews = obj['numReviews']\n",
    "    \n",
    "    geo = obj['geoPoint']\n",
    "    lat, lon = geo['latitude'], geo['longitude']\n",
    "    detail_url = obj['detailUrl']\n",
    "    try:\n",
    "        thumbnail = obj['thumbnail']\n",
    "        helpful_reviews, date_publish, date_upload = thumbnail['helpful_votes'], thumbnail['published_date'], thumbnail['uploaded_date']\n",
    "    except:\n",
    "        helpful_reviews = date_publish = date_upload = np.NaN\n",
    "        \n",
    "    return [uid, name, entityType, rating, number_of_reviews, helpful_reviews, date_publish, date_upload, detail_url, lat, lon]"
   ]
  },
  {
   "cell_type": "code",
   "execution_count": 2,
   "metadata": {},
   "outputs": [],
   "source": [
    "def selective_parce(obj, major_cat):\n",
    "    if major_cat == 'restaurants':\n",
    "        raw_cuisines, cuisines = obj['cuisines'], []\n",
    "        for cuis in raw_cuisines:\n",
    "            cuisines.append(cuis['name'])\n",
    "        cuisines = '|'.join(cuisines)\n",
    "        price = obj['priceString']\n",
    "        \n",
    "        return [cuisines, price]\n",
    "    \n",
    "    elif major_cat == 'attractions':\n",
    "        category = obj['category']\n",
    "        openHours = obj['openHours']\n",
    "\n",
    "        return [category,openHours] \n",
    "    else:\n",
    "        popularity = obj['popIndexText'].replace(' ','').replace('of','/').replace('Moscowhotels','').replace('#','')\n",
    "        accommodationCategory = obj['accommodationCategory']\n",
    "        offers = obj['offers']\n",
    "        \n",
    "        return [accommodationCategory,offers,popularity]"
   ]
  },
  {
   "cell_type": "code",
   "execution_count": null,
   "metadata": {},
   "outputs": [],
   "source": [
    "common_names = ['uid', 'name', 'entityType', 'rating', 'number_of_reviews', 'helpful_reviews', 'date_publish', 'date_upload', 'detail_url', 'lat', 'lon']\n",
    "\n",
    "rules_of_naming = {\n",
    "    'restaurants' : common_names + ['cuisines', 'price'],\n",
    "    'attractions' : common_names + ['category', 'openHours'],\n",
    "    'hotels' : common_names + ['accommodationCategory', 'offers', 'popularity']\n",
    "}"
   ]
  },
  {
   "cell_type": "code",
   "execution_count": 8,
   "metadata": {},
   "outputs": [],
   "source": [
    "def parce_json(obj,major_cat):\n",
    "    uid = obj['id']\n",
    "    name = obj['name']\n",
    "    entityType = obj['entityType']\n",
    "    rating = obj['bubbleRating']\n",
    "    number_of_reviews = obj['numReviews']\n",
    "    lat = obj['geoPoint']['latitude']\n",
    "    lon = obj['geoPoint']['longitude']\n",
    "    detail_url = obj['detailUrl']\n",
    "    try:\n",
    "        helpful_reviews = obj['thumbnail']['helpful_votes']\n",
    "        date_publish = obj['thumbnail']['published_date']\n",
    "        date_upload = obj['thumbnail']['uploaded_date']\n",
    "    except:\n",
    "        helpful_reviews = np.NaN\n",
    "        date_publish = np.NaN\n",
    "        date_upload = np.NaN\n",
    "    \n",
    "    \n",
    "    if major_cat == 'restaurants':\n",
    "        q = obj['cuisines']\n",
    "        cuisines = []\n",
    "        for cuis in q:\n",
    "            cuisines.append(cuis['name'])\n",
    "            cuisines = '|'.join(cuisines)\n",
    "        price = obj['priceString']\n",
    "        json_datum = [\n",
    "            uid, name, entityType, cuisines,\n",
    "            price, rating, number_of_reviews,\n",
    "            helpful_reviews, date_publish, date_upload,\n",
    "            detail_url, lat, lon\n",
    "                     ]\n",
    "        return json_datum\n",
    "    elif major_cat == 'attractions':\n",
    "        category = obj['category']\n",
    "        openHours = obj['openHours']\n",
    "        json_datum = [\n",
    "            uid,name,entityType,category,\n",
    "            openHours,rating,number_of_reviews,\n",
    "            helpful_reviews,date_publish,date_upload,\n",
    "            detail_url ,lat,lon\n",
    "                 ]\n",
    "        return json_datum \n",
    "    else:\n",
    "        popularity = obj['popIndexText'].replace(' ','').replace('of','/').replace('Moscowhotels','').replace('#','')\n",
    "        accommodationCategory = obj['accommodationCategory']\n",
    "        offers = obj['offers']\n",
    "        json_datum = [\n",
    "            uid,name,entityType,accommodationCategory,\n",
    "            offers,rating,popularity,number_of_reviews,\n",
    "            helpful_reviews,date_publish,date_upload,\n",
    "            detail_url ,lat,lon\n",
    "                 ]\n",
    "        return json_datum"
   ]
  },
  {
   "cell_type": "code",
   "execution_count": null,
   "metadata": {},
   "outputs": [
    {
     "name": "stderr",
     "output_type": "stream",
     "text": [
      "100it [00:41,  1.86it/s]/usr/local/lib/python3.5/dist-packages/ipykernel_launcher.py:34: FutureWarning: Sorting because non-concatenation axis is not aligned. A future version\n",
      "of pandas will change to not sort by default.\n",
      "\n",
      "To accept the future behavior, pass 'sort=False'.\n",
      "\n",
      "To retain the current behavior and silence the warning, pass 'sort=True'.\n",
      "\n",
      "6863it [1:01:23,  2.45it/s]"
     ]
    },
    {
     "name": "stdout",
     "output_type": "stream",
     "text": [
      "'str' object has no attribute 'append'\n",
      "'str' object has no attribute 'append'\n",
      "'str' object has no attribute 'append'\n"
     ]
    },
    {
     "name": "stderr",
     "output_type": "stream",
     "text": [
      "8750it [1:24:25,  1.83it/s]"
     ]
    },
    {
     "name": "stdout",
     "output_type": "stream",
     "text": [
      "'str' object has no attribute 'append'\n"
     ]
    },
    {
     "name": "stderr",
     "output_type": "stream",
     "text": [
      "8753it [1:24:27,  2.15it/s]"
     ]
    },
    {
     "name": "stdout",
     "output_type": "stream",
     "text": [
      "'str' object has no attribute 'append'\n"
     ]
    },
    {
     "name": "stderr",
     "output_type": "stream",
     "text": [
      "9289it [1:31:13,  2.72it/s]"
     ]
    },
    {
     "name": "stdout",
     "output_type": "stream",
     "text": [
      "'str' object has no attribute 'append'\n"
     ]
    },
    {
     "name": "stderr",
     "output_type": "stream",
     "text": [
      "10185it [1:45:00,  2.72it/s]"
     ]
    },
    {
     "name": "stdout",
     "output_type": "stream",
     "text": [
      "'str' object has no attribute 'append'\n"
     ]
    },
    {
     "name": "stderr",
     "output_type": "stream",
     "text": [
      "10900it [1:55:52,  2.77it/s]"
     ]
    }
   ],
   "source": [
    "df_list = []\n",
    "request_list = []\n",
    "for i, row in tqdm(bounds.iterrows()):\n",
    "    maxx = row.maxx\n",
    "    maxy = row.maxy\n",
    "    minx = row.minx\n",
    "    miny = row.miny\n",
    "    \n",
    "    \n",
    "    try:\n",
    "        ta_result = trip_request(miny, minx, maxy, maxx) \n",
    "        request_list.append([row.id, ta_result])\n",
    "    except Exception as e:\n",
    "        print (e)\n",
    "    for major_cat in ['hotels', 'restaurants', 'attractions']:\n",
    "        objects = ta_result[major_cat]\n",
    "        table = []\n",
    "        for obj in objects:\n",
    "            try:\n",
    "                current_datum = basic_parce(obj) + selective_parce(obj, major_cat)\n",
    "                table.append(current_datum)\n",
    "            except Exception as e:\n",
    "                print(e)\n",
    "        df_list.append(pd.DataFrame(table, columns = rules_of_naming[major_cat]))\n",
    "\n",
    "  \n",
    "\n",
    "    \n",
    "    if i % 100 == 0 and i != 0:\n",
    "        time.sleep(3)\n",
    "        pd.DataFrame(request_list,\n",
    "                     columns = ['id', 'request']\n",
    "                    ).to_csv('/home/mtopnikov/p_import/tripadvisor_requests_part_v2.csv')\n",
    "        pd.concat(df_list, sort = True).to_csv('/home/mtopnikov/p_piter/tripadvisor/tripadvisor_data_part_v2.csv')\n",
    "        \n",
    "pd.DataFrame(request_list,\n",
    "             columns = ['id', 'request']\n",
    "            ).to_csv('/home/mtopnikov/p_piter/tripadvisor/tripadvisor_requests_final_v2.csv')\n",
    "pd.concat(df_list, sort = True).to_csv('/home/mtopnikov/p_piter/tripadvisor/tripadvisor_data_final_v2.csv')"
   ]
  },
  {
   "cell_type": "code",
   "execution_count": 13,
   "metadata": {},
   "outputs": [
    {
     "data": {
      "text/plain": [
       "75.20833333333333"
      ]
     },
     "execution_count": 13,
     "metadata": {},
     "output_type": "execute_result"
    }
   ],
   "source": [
    "18000000/2.77//3600/24"
   ]
  },
  {
   "cell_type": "code",
   "execution_count": 14,
   "metadata": {},
   "outputs": [
    {
     "data": {
      "text/html": [
       "<div>\n",
       "<style scoped>\n",
       "    .dataframe tbody tr th:only-of-type {\n",
       "        vertical-align: middle;\n",
       "    }\n",
       "\n",
       "    .dataframe tbody tr th {\n",
       "        vertical-align: top;\n",
       "    }\n",
       "\n",
       "    .dataframe thead th {\n",
       "        text-align: right;\n",
       "    }\n",
       "</style>\n",
       "<table border=\"1\" class=\"dataframe\">\n",
       "  <thead>\n",
       "    <tr style=\"text-align: right;\">\n",
       "      <th></th>\n",
       "      <th>Unnamed: 0</th>\n",
       "      <th>accommodationCategory</th>\n",
       "      <th>category</th>\n",
       "      <th>cuisines</th>\n",
       "      <th>date_publish</th>\n",
       "      <th>date_upload</th>\n",
       "      <th>detail_url</th>\n",
       "      <th>entityType</th>\n",
       "      <th>helpful_reviews</th>\n",
       "      <th>lat</th>\n",
       "      <th>lon</th>\n",
       "      <th>name</th>\n",
       "      <th>number_of_reviews</th>\n",
       "      <th>offers</th>\n",
       "      <th>openHours</th>\n",
       "      <th>popularity</th>\n",
       "      <th>price</th>\n",
       "      <th>rating</th>\n",
       "      <th>uid</th>\n",
       "    </tr>\n",
       "  </thead>\n",
       "  <tbody>\n",
       "    <tr>\n",
       "      <th>0</th>\n",
       "      <td>0</td>\n",
       "      <td>NaN</td>\n",
       "      <td>NaN</td>\n",
       "      <td>[]</td>\n",
       "      <td>NaN</td>\n",
       "      <td>NaN</td>\n",
       "      <td>/Restaurant_Review-g3619189-d3764778-Reviews-C...</td>\n",
       "      <td>restaurant</td>\n",
       "      <td>NaN</td>\n",
       "      <td>60.183681</td>\n",
       "      <td>29.506420</td>\n",
       "      <td>Chance</td>\n",
       "      <td>1</td>\n",
       "      <td>NaN</td>\n",
       "      <td>NaN</td>\n",
       "      <td>NaN</td>\n",
       "      <td>NaN</td>\n",
       "      <td>50</td>\n",
       "      <td>3764778</td>\n",
       "    </tr>\n",
       "    <tr>\n",
       "      <th>1</th>\n",
       "      <td>1</td>\n",
       "      <td>NaN</td>\n",
       "      <td>NaN</td>\n",
       "      <td>Russian</td>\n",
       "      <td>NaN</td>\n",
       "      <td>NaN</td>\n",
       "      <td>/Restaurant_Review-g3619189-d3775375-Reviews-K...</td>\n",
       "      <td>restaurant</td>\n",
       "      <td>NaN</td>\n",
       "      <td>60.183681</td>\n",
       "      <td>29.506420</td>\n",
       "      <td>Krasnaya Zvezda</td>\n",
       "      <td>0</td>\n",
       "      <td>NaN</td>\n",
       "      <td>NaN</td>\n",
       "      <td>NaN</td>\n",
       "      <td>NaN</td>\n",
       "      <td>0</td>\n",
       "      <td>3775375</td>\n",
       "    </tr>\n",
       "    <tr>\n",
       "      <th>2</th>\n",
       "      <td>0</td>\n",
       "      <td>NaN</td>\n",
       "      <td>NaN</td>\n",
       "      <td>NaN</td>\n",
       "      <td>NaN</td>\n",
       "      <td>NaN</td>\n",
       "      <td>/Hotel_Review-g2345793-d2343491-Reviews-Hotel_...</td>\n",
       "      <td>hotel</td>\n",
       "      <td>NaN</td>\n",
       "      <td>60.195309</td>\n",
       "      <td>29.529720</td>\n",
       "      <td>Hotel Black River</td>\n",
       "      <td>17</td>\n",
       "      <td>NaN</td>\n",
       "      <td>NaN</td>\n",
       "      <td>2/2Sestroretskhotels</td>\n",
       "      <td>NaN</td>\n",
       "      <td>35</td>\n",
       "      <td>2343491</td>\n",
       "    </tr>\n",
       "    <tr>\n",
       "      <th>3</th>\n",
       "      <td>0</td>\n",
       "      <td>NaN</td>\n",
       "      <td>NaN</td>\n",
       "      <td>[]</td>\n",
       "      <td>2016-03-03T02:44:23-0500</td>\n",
       "      <td>2016-03-03T02:44:23-0500</td>\n",
       "      <td>/Restaurant_Review-g3618978-d3756959-Reviews-C...</td>\n",
       "      <td>restaurant</td>\n",
       "      <td>0.0</td>\n",
       "      <td>60.195309</td>\n",
       "      <td>29.529720</td>\n",
       "      <td>Chernaya Rechka</td>\n",
       "      <td>4</td>\n",
       "      <td>NaN</td>\n",
       "      <td>NaN</td>\n",
       "      <td>NaN</td>\n",
       "      <td>NaN</td>\n",
       "      <td>45</td>\n",
       "      <td>3756959</td>\n",
       "    </tr>\n",
       "    <tr>\n",
       "      <th>4</th>\n",
       "      <td>0</td>\n",
       "      <td>NaN</td>\n",
       "      <td>Nature &amp; Parks</td>\n",
       "      <td>NaN</td>\n",
       "      <td>2014-10-02T08:22:17-0400</td>\n",
       "      <td>2014-09-28T07:32:28-0400</td>\n",
       "      <td>/Attraction_Review-g2418659-d6877696-Reviews-L...</td>\n",
       "      <td>attraction</td>\n",
       "      <td>5.0</td>\n",
       "      <td>60.232838</td>\n",
       "      <td>29.532785</td>\n",
       "      <td>Lindulovskaya Grove</td>\n",
       "      <td>26</td>\n",
       "      <td>NaN</td>\n",
       "      <td>NaN</td>\n",
       "      <td>NaN</td>\n",
       "      <td>NaN</td>\n",
       "      <td>50</td>\n",
       "      <td>6877696</td>\n",
       "    </tr>\n",
       "  </tbody>\n",
       "</table>\n",
       "</div>"
      ],
      "text/plain": [
       "   Unnamed: 0  accommodationCategory        category cuisines  \\\n",
       "0           0                    NaN             NaN       []   \n",
       "1           1                    NaN             NaN  Russian   \n",
       "2           0                    NaN             NaN      NaN   \n",
       "3           0                    NaN             NaN       []   \n",
       "4           0                    NaN  Nature & Parks      NaN   \n",
       "\n",
       "               date_publish               date_upload  \\\n",
       "0                       NaN                       NaN   \n",
       "1                       NaN                       NaN   \n",
       "2                       NaN                       NaN   \n",
       "3  2016-03-03T02:44:23-0500  2016-03-03T02:44:23-0500   \n",
       "4  2014-10-02T08:22:17-0400  2014-09-28T07:32:28-0400   \n",
       "\n",
       "                                          detail_url  entityType  \\\n",
       "0  /Restaurant_Review-g3619189-d3764778-Reviews-C...  restaurant   \n",
       "1  /Restaurant_Review-g3619189-d3775375-Reviews-K...  restaurant   \n",
       "2  /Hotel_Review-g2345793-d2343491-Reviews-Hotel_...       hotel   \n",
       "3  /Restaurant_Review-g3618978-d3756959-Reviews-C...  restaurant   \n",
       "4  /Attraction_Review-g2418659-d6877696-Reviews-L...  attraction   \n",
       "\n",
       "   helpful_reviews        lat        lon                 name  \\\n",
       "0              NaN  60.183681  29.506420               Chance   \n",
       "1              NaN  60.183681  29.506420      Krasnaya Zvezda   \n",
       "2              NaN  60.195309  29.529720    Hotel Black River   \n",
       "3              0.0  60.195309  29.529720      Chernaya Rechka   \n",
       "4              5.0  60.232838  29.532785  Lindulovskaya Grove   \n",
       "\n",
       "   number_of_reviews  offers openHours            popularity  price  rating  \\\n",
       "0                  1     NaN       NaN                   NaN    NaN      50   \n",
       "1                  0     NaN       NaN                   NaN    NaN       0   \n",
       "2                 17     NaN       NaN  2/2Sestroretskhotels    NaN      35   \n",
       "3                  4     NaN       NaN                   NaN    NaN      45   \n",
       "4                 26     NaN       NaN                   NaN    NaN      50   \n",
       "\n",
       "       uid  \n",
       "0  3764778  \n",
       "1  3775375  \n",
       "2  2343491  \n",
       "3  3756959  \n",
       "4  6877696  "
      ]
     },
     "execution_count": 14,
     "metadata": {},
     "output_type": "execute_result"
    }
   ],
   "source": [
    "df = pd.read_csv('/home/mtopnikov/p_piter/tripadvisor/tripadvisor_data_final_v2.csv')\n",
    "df.head()"
   ]
  },
  {
   "cell_type": "code",
   "execution_count": 15,
   "metadata": {},
   "outputs": [],
   "source": [
    "df = df[[\n",
    "    'uid', 'name', 'entityType', 'accommodationCategory', 'category', 'cuisines',\n",
    "    'price', 'openHours', 'offers', 'rating', 'popularity', 'number_of_reviews',\n",
    "    'helpful_reviews', 'date_publish', 'date_upload', 'detail_url' ,'lat', 'lon'\n",
    "        ]]\n",
    "df.loc[df['cuisines'] == '[]'] = np.NaN\n",
    "df.to_csv('/mnt/data3/data_providers/tripadvisor/peterburg_tripadvisor_all_entities.csv', index = None)"
   ]
  }
 ],
 "metadata": {
  "kernelspec": {
   "display_name": "Python 3",
   "language": "python",
   "name": "python3"
  },
  "language_info": {
   "codemirror_mode": {
    "name": "ipython",
    "version": 3
   },
   "file_extension": ".py",
   "mimetype": "text/x-python",
   "name": "python",
   "nbconvert_exporter": "python",
   "pygments_lexer": "ipython3",
   "version": "3.7.3"
  }
 },
 "nbformat": 4,
 "nbformat_minor": 4
}

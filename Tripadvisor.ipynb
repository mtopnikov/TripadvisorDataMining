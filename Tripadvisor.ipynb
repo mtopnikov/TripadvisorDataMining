{
 "cells": [
  {
   "cell_type": "markdown",
   "metadata": {},
   "source": [
    "# Tripadvisor data"
   ]
  },
  {
   "cell_type": "markdown",
   "metadata": {},
   "source": [
    "## Description"
   ]
  },
  {
   "cell_type": "markdown",
   "metadata": {},
   "source": [
    "This notebook is used for getting Tripanvisor geodata via site's API\n",
    "\n",
    "https://www.tripadvisor.com/data/1.0/maps/alsoShow/boundingBox.\n",
    "\n",
    "**API required parameters**:\n",
    "\n",
    "- bounding box coordinates\n",
    "- number of results to display for each object category (default value - 20)\n",
    "- rc - unknown parameter, left empty by default\n",
    "\n",
    "**Output parameters**:\n",
    "\n",
    "- geographical coordinates (`lat`, `lon`, projection: `EPSG:4326`)\n",
    "- `id`\n",
    "- `name`\n",
    "- `entityType` - main type of object (hotel, restaurant, attraction)\n",
    "- `bubbleRating` - place rating, [0, 50], step - 5\n",
    "- `numReviews` - number of reviews on Tripadvisor\n",
    "- `detailUrl` - relative URL of the entity, gives access for rewiews' texts\n",
    "\n",
    "Other parameters differdepending on `entityType` field value."
   ]
  },
  {
   "cell_type": "markdown",
   "metadata": {},
   "source": [
    "## Required imports"
   ]
  },
  {
   "cell_type": "code",
   "execution_count": 1,
   "metadata": {},
   "outputs": [],
   "source": [
    "import pandas as pd\n",
    "import requests\n",
    "from tqdm import tqdm\n",
    "import numpy as np\n",
    "import geopandas as gpd\n",
    "import time\n",
    "import json\n",
    "from collections import defaultdict\n",
    "\n",
    "tripadvisor_map = 'https://www.tripadvisor.com/data/1.0/maps/alsoShow/boundingBox'"
   ]
  },
  {
   "cell_type": "markdown",
   "metadata": {},
   "source": [
    "# Functions"
   ]
  },
  {
   "cell_type": "markdown",
   "metadata": {},
   "source": [
    "## Geocoding"
   ]
  },
  {
   "cell_type": "code",
   "execution_count": 21,
   "metadata": {},
   "outputs": [],
   "source": [
    "import geocoder\n",
    "\n",
    "def gcode_osm(address):\n",
    "    \"\"\"\n",
    "    Sends request to Nominatim geocoding server, returns `dict` with data, else returns NaN\n",
    "    \"\"\"\n",
    "    try:\n",
    "        response = geocoder.arcgis(address).json\n",
    "    except Exception as e:\n",
    "        print(e)\n",
    "        response = None\n",
    "    return response\n",
    "        \n",
    "\n",
    "def getLocation(response):\n",
    "    \"\"\"\n",
    "    Returns city location\n",
    "    \"\"\"\n",
    "    try:\n",
    "        lat, lon = response['lat'], response['lng']\n",
    "    except Exception as e:\n",
    "        print(e)\n",
    "        lat = lon = None\n",
    "    return lat, lon"
   ]
  },
  {
   "cell_type": "markdown",
   "metadata": {},
   "source": [
    "## Grid Generation"
   ]
  },
  {
   "cell_type": "code",
   "execution_count": 22,
   "metadata": {},
   "outputs": [],
   "source": [
    "from math import cos, radians, ceil\n",
    "\n",
    "def lon_step(lat, margin):\n",
    "    \"\"\"\n",
    "    Returns longitude step for cells on the current latitude\n",
    "    \"\"\"\n",
    "    lon_step = margin / (cos(radians(lat)) * 111.3 * 1000)\n",
    "    return lon_step\n",
    "    \n",
    "\n",
    "CELL_SIDE = 500    \n",
    "LAT_STEP = CELL_SIDE / (111.1 * 1000)\n",
    "\n",
    "DEG_CONST_LAT = 2500 / (111.1 * 1000)\n",
    "\n",
    "def getBBox(response):\n",
    "    \"\"\"\n",
    "    Returns city bounding box\n",
    "    \"\"\"\n",
    "    try:\n",
    "        bbox = response['bbox']\n",
    "        maxx, maxy = bbox['northeast'][1], bbox['northeast'][0]\n",
    "        minx, miny = bbox['southwest'][1], bbox['southwest'][0]\n",
    "    except:\n",
    "        lat, lon = getLocation(response)\n",
    "        \n",
    "        DEG_CONST_LON = lon_step(lat, 2500)\n",
    "        \n",
    "        maxx, minx = lon + DEG_CONST_LON, lon - DEG_CONST_LON\n",
    "        maxy, miny = lat + DEG_CONST_LAT, lat - DEG_CONST_LAT\n",
    "    bbox = {'miny' : miny, 'minx' : minx, 'maxy' : maxy, 'maxx' : maxx}\n",
    "    return bbox\n",
    "\n",
    "def createGrid(bbox, latitude_step, longitude_step):\n",
    "    grid = pd.DataFrame()\n",
    "    for i in np.arange(bbox['miny'], bbox['maxy'] + latitude_step, latitude_step): # rows\n",
    "        for j in np.arange(bbox['minx'], bbox['maxx'] + longitude_step, longitude_step): # cols\n",
    "            grid = grid.append(pd.Series({'miny' : i, 'minx' : j, 'maxy' : i + latitude_step, 'maxx' : j + longitude_step}), ignore_index = True)\n",
    "    grid['id'] = pd.Series([str(int(i)) for i in range(0, len(grid))])\n",
    "    return grid"
   ]
  },
  {
   "cell_type": "markdown",
   "metadata": {},
   "source": [
    "## Tripadvisor API requests"
   ]
  },
  {
   "cell_type": "code",
   "execution_count": 23,
   "metadata": {},
   "outputs": [],
   "source": [
    "def trip_request(miny, minx, maxy, maxx):\n",
    "    \"\"\"\n",
    "    Sends request to Tripadvisor API. Returns result dictionary\n",
    "    \"\"\"\n",
    "    params = {\n",
    "        'minLat' : miny,\n",
    "        'minLng' : minx,\n",
    "        'maxLat' : maxy,\n",
    "        'maxLng' : maxx,\n",
    "        'hotelCount' : 0,\n",
    "        'attractionCount' : 0,\n",
    "        'restaurantCount' : 300,\n",
    "        'rc' : ''\n",
    "    }\n",
    "    \n",
    "    ta_result = requests.get(tripadvisor_map, params = params).json()\n",
    "    \n",
    "    return ta_result\n",
    "\n",
    "def basic_parce(obj):\n",
    "    \"\"\"\n",
    "    Parces results dictionary. Returns list of objects common for all the entities\n",
    "    \"\"\"\n",
    "    uid = obj['id']\n",
    "    name = obj['name']\n",
    "    entityType = obj['entityType']\n",
    "    rating = obj['bubbleRating']\n",
    "    number_of_reviews = obj['numReviews']\n",
    "    \n",
    "    geo = obj['geoPoint']\n",
    "    lat, lon = geo['latitude'], geo['longitude']\n",
    "    detail_url = obj['detailUrl']\n",
    "    try:\n",
    "        thumbnail = obj['thumbnail']\n",
    "        helpful_reviews, date_publish, date_upload = thumbnail['helpful_votes'], thumbnail['published_date'], thumbnail['uploaded_date']\n",
    "    except:\n",
    "        helpful_reviews = date_publish = date_upload = None\n",
    "        \n",
    "    return [uid, name, entityType, rating, number_of_reviews, helpful_reviews, date_publish, date_upload, detail_url, lat, lon]\n",
    "\n",
    "def selective_parce(obj, major_cat):\n",
    "    \"\"\"\n",
    "    Parces results dictionary. Returns list of objects specific for each entity type\n",
    "    \"\"\"\n",
    "    if major_cat == 'restaurants':\n",
    "#         raw_cuisines, cuisines = obj['cuisines'], []\n",
    "#         for cuis in raw_cuisines:\n",
    "#             cuisines.append(cuis['name'])\n",
    "#         cuisines = '|'.join(cuisines)\n",
    "        cuisines = '-*-'.join([x['name'] for  x in obj['cuisines']])\n",
    "        price = obj['priceString']\n",
    "        \n",
    "        return [cuisines, price]\n",
    "    \n",
    "    elif major_cat == 'attractions':\n",
    "        category = obj['category']\n",
    "        openHours = obj['openHours']\n",
    "\n",
    "        return [category,openHours] \n",
    "    else:\n",
    "        popularity = obj['popIndexText'].replace(' ','').replace('of','/').replace('Moscowhotels','').replace('#','')\n",
    "        accommodationCategory = obj['accommodationCategory']\n",
    "        offers = obj['offers']\n",
    "        \n",
    "        return [accommodationCategory,offers,popularity]"
   ]
  },
  {
   "cell_type": "code",
   "execution_count": 24,
   "metadata": {},
   "outputs": [],
   "source": [
    "common_names = ['uid', 'name', 'entityType', 'rating', 'number_of_reviews', 'helpful_reviews', 'date_publish', 'date_upload', 'detail_url', 'lat', 'lon']\n",
    "\n",
    "rules_of_naming = {\n",
    "    'restaurants' : common_names + ['cuisines', 'price'],\n",
    "    'attractions' : common_names + ['category', 'openHours'],\n",
    "    'hotels' : common_names + ['accommodationCategory', 'offers', 'popularity']\n",
    "}"
   ]
  },
  {
   "cell_type": "markdown",
   "metadata": {},
   "source": [
    "# Prepare cities list to mining"
   ]
  },
  {
   "cell_type": "code",
   "execution_count": 35,
   "metadata": {},
   "outputs": [
    {
     "data": {
      "text/plain": [
       "odict_keys(['Europe', 'Africa', 'NA', 'SA', 'Asia', 'Oceania', 'Russia', 'China'])"
      ]
     },
     "execution_count": 35,
     "metadata": {},
     "output_type": "execute_result"
    }
   ],
   "source": [
    "cities_total = pd.read_excel('D:/data_projects/japanFood_worldwide/cities_list.xlsx', sheet_name= None)\n",
    "cities_total.keys()"
   ]
  },
  {
   "cell_type": "code",
   "execution_count": 36,
   "metadata": {},
   "outputs": [],
   "source": [
    "def create_addresses(df):\n",
    "    df.columns = [i.lower().strip() for i in list(df)]\n",
    "    df['country'] = df.country.str.split(' - ').str[0].str.lower().str.replace('\\(islamic republic of\\)', '').str.strip()\n",
    "    df['country'] = df['country'].str.replace(' (islamic republic of)', '')\n",
    "    df['city'] = df.city.str.lower().str.split('(').str[0].str.replace(r'\\d+', '').str.strip()\n",
    "    df['address'] = df.city + ', ' + df.country\n",
    "    return df"
   ]
  },
  {
   "cell_type": "code",
   "execution_count": 59,
   "metadata": {},
   "outputs": [
    {
     "name": "stderr",
     "output_type": "stream",
     "text": [
      "101it [02:41,  1.65s/it]\n",
      "134it [03:30,  1.54s/it]\n",
      "121it [04:01,  2.35s/it]\n",
      "85it [02:15,  1.60s/it]\n",
      "280it [07:30,  1.63s/it]\n",
      "30it [00:47,  1.58s/it]\n",
      "36it [00:56,  1.57s/it]\n",
      "117it [03:06,  1.57s/it]\n"
     ]
    }
   ],
   "source": [
    "total_cities = defaultdict(dict)\n",
    "for region in cities_total:\n",
    "    region_list = []\n",
    "    region_df = create_addresses(cities_total[region])\n",
    "    \n",
    "    for i, city in tqdm(region_df.iterrows()):\n",
    "        response = gcode_osm(city['address'])\n",
    "        lat, lon = getLocation(response)\n",
    "        if lat == None or lon == None:\n",
    "            continue\n",
    "        bbox = getBBox(response)\n",
    "        \n",
    "        region_list.append({\n",
    "            'region' : region,\n",
    "            'city' : city['city'],\n",
    "            'country' : city['country'],\n",
    "            'population' : city['population'],\n",
    "            'lat' : lat,\n",
    "            'lon' : lon,\n",
    "            'bbox' : bbox\n",
    "        })\n",
    "        \n",
    "        time.sleep(1)\n",
    "    total_cities[region] = region_list"
   ]
  },
  {
   "cell_type": "code",
   "execution_count": 70,
   "metadata": {},
   "outputs": [],
   "source": [
    "with open ('total_cities.json', 'w') as outfile:\n",
    "    json.dump(total_cities, outfile)"
   ]
  },
  {
   "cell_type": "markdown",
   "metadata": {},
   "source": [
    "# Working with Tripadvisor API"
   ]
  },
  {
   "cell_type": "code",
   "execution_count": 7,
   "metadata": {},
   "outputs": [],
   "source": [
    "with open('total_cities.json') as infile:\n",
    "    total_cities = json.load(infile)"
   ]
  },
  {
   "cell_type": "code",
   "execution_count": 72,
   "metadata": {},
   "outputs": [
    {
     "data": {
      "text/plain": [
       "dict_keys(['Europe', 'Africa', 'NA', 'SA', 'Asia', 'Oceania', 'Russia', 'China'])"
      ]
     },
     "execution_count": 72,
     "metadata": {},
     "output_type": "execute_result"
    }
   ],
   "source": [
    "total_cities.keys()"
   ]
  },
  {
   "cell_type": "markdown",
   "metadata": {},
   "source": [
    "## CHOOSE REGION"
   ]
  },
  {
   "cell_type": "code",
   "execution_count": 37,
   "metadata": {},
   "outputs": [
    {
     "data": {
      "text/html": [
       "<div>\n",
       "<style scoped>\n",
       "    .dataframe tbody tr th:only-of-type {\n",
       "        vertical-align: middle;\n",
       "    }\n",
       "\n",
       "    .dataframe tbody tr th {\n",
       "        vertical-align: top;\n",
       "    }\n",
       "\n",
       "    .dataframe thead th {\n",
       "        text-align: right;\n",
       "    }\n",
       "</style>\n",
       "<table border=\"1\" class=\"dataframe\">\n",
       "  <thead>\n",
       "    <tr style=\"text-align: right;\">\n",
       "      <th></th>\n",
       "      <th>bbox</th>\n",
       "      <th>city</th>\n",
       "      <th>country</th>\n",
       "      <th>lat</th>\n",
       "      <th>lon</th>\n",
       "      <th>population</th>\n",
       "      <th>region</th>\n",
       "      <th>geometry</th>\n",
       "    </tr>\n",
       "  </thead>\n",
       "  <tbody>\n",
       "    <tr>\n",
       "      <th>0</th>\n",
       "      <td>{\"miny\": 41.271320000000046, \"minx\": 19.774170...</td>\n",
       "      <td>tirana</td>\n",
       "      <td>albania</td>\n",
       "      <td>41.32232</td>\n",
       "      <td>19.82517</td>\n",
       "      <td>418495</td>\n",
       "      <td>Europe</td>\n",
       "      <td>POLYGON ((19.87617000000007 41.27132000000005,...</td>\n",
       "    </tr>\n",
       "    <tr>\n",
       "      <th>1</th>\n",
       "      <td>{\"miny\": 42.46814000000004, \"minx\": 1.48904000...</td>\n",
       "      <td>andorra la vella</td>\n",
       "      <td>andorra</td>\n",
       "      <td>42.50514</td>\n",
       "      <td>1.52604</td>\n",
       "      <td>22205</td>\n",
       "      <td>Europe</td>\n",
       "      <td>POLYGON ((1.563040000000023 42.46814000000004,...</td>\n",
       "    </tr>\n",
       "    <tr>\n",
       "      <th>2</th>\n",
       "      <td>{\"miny\": 48.05263000000006, \"minx\": 16.2184200...</td>\n",
       "      <td>wien</td>\n",
       "      <td>austria</td>\n",
       "      <td>48.20263</td>\n",
       "      <td>16.36842</td>\n",
       "      <td>1867582</td>\n",
       "      <td>Europe</td>\n",
       "      <td>POLYGON ((16.51842000000007 48.05263000000006,...</td>\n",
       "    </tr>\n",
       "    <tr>\n",
       "      <th>3</th>\n",
       "      <td>{\"miny\": 53.76675000000006, \"minx\": 27.4284300...</td>\n",
       "      <td>minsk</td>\n",
       "      <td>belarus</td>\n",
       "      <td>53.90375</td>\n",
       "      <td>27.56543</td>\n",
       "      <td>1974819</td>\n",
       "      <td>Europe</td>\n",
       "      <td>POLYGON ((27.70243000000005 53.76675000000006,...</td>\n",
       "    </tr>\n",
       "    <tr>\n",
       "      <th>4</th>\n",
       "      <td>{\"miny\": 51.09312000000008, \"minx\": 4.26869000...</td>\n",
       "      <td>antwerpen</td>\n",
       "      <td>belgium</td>\n",
       "      <td>51.22212</td>\n",
       "      <td>4.39769</td>\n",
       "      <td>498473</td>\n",
       "      <td>Europe</td>\n",
       "      <td>POLYGON ((4.526690000000068 51.09312000000008,...</td>\n",
       "    </tr>\n",
       "  </tbody>\n",
       "</table>\n",
       "</div>"
      ],
      "text/plain": [
       "                                                bbox              city  \\\n",
       "0  {\"miny\": 41.271320000000046, \"minx\": 19.774170...            tirana   \n",
       "1  {\"miny\": 42.46814000000004, \"minx\": 1.48904000...  andorra la vella   \n",
       "2  {\"miny\": 48.05263000000006, \"minx\": 16.2184200...              wien   \n",
       "3  {\"miny\": 53.76675000000006, \"minx\": 27.4284300...             minsk   \n",
       "4  {\"miny\": 51.09312000000008, \"minx\": 4.26869000...         antwerpen   \n",
       "\n",
       "   country       lat       lon population  region  \\\n",
       "0  albania  41.32232  19.82517     418495  Europe   \n",
       "1  andorra  42.50514   1.52604      22205  Europe   \n",
       "2  austria  48.20263  16.36842    1867582  Europe   \n",
       "3  belarus  53.90375  27.56543    1974819  Europe   \n",
       "4  belgium  51.22212   4.39769     498473  Europe   \n",
       "\n",
       "                                            geometry  \n",
       "0  POLYGON ((19.87617000000007 41.27132000000005,...  \n",
       "1  POLYGON ((1.563040000000023 42.46814000000004,...  \n",
       "2  POLYGON ((16.51842000000007 48.05263000000006,...  \n",
       "3  POLYGON ((27.70243000000005 53.76675000000006,...  \n",
       "4  POLYGON ((4.526690000000068 51.09312000000008,...  "
      ]
     },
     "execution_count": 37,
     "metadata": {},
     "output_type": "execute_result"
    }
   ],
   "source": [
    "cities = gpd.read_file('bbox_final.gpkg')\n",
    "cities.head()"
   ]
  },
  {
   "cell_type": "code",
   "execution_count": 38,
   "metadata": {},
   "outputs": [],
   "source": [
    "cities = pd.concat([cities, cities.geometry.bounds], axis = 1)"
   ]
  },
  {
   "cell_type": "code",
   "execution_count": 39,
   "metadata": {},
   "outputs": [],
   "source": [
    "reg = 'Europe'"
   ]
  },
  {
   "cell_type": "code",
   "execution_count": 40,
   "metadata": {},
   "outputs": [],
   "source": [
    "cities_list = cities[cities.region == reg]"
   ]
  },
  {
   "cell_type": "code",
   "execution_count": 21,
   "metadata": {},
   "outputs": [],
   "source": [
    "def exports(request_list, df_list, address, prelimnary = True):\n",
    "    \"\"\"\n",
    "    Exports data to prelimnary and final files\n",
    "    \"\"\"\n",
    "    if prelimnary:\n",
    "        suffix = 'part'\n",
    "    else:\n",
    "        suffix = 'full'\n",
    "        \n",
    "    \n",
    "    df_requests = pd.DataFrame(request_list, columns = ['id', 'request'])\n",
    "\n",
    "    with open(f'D:/data_projects/japanFood_worldwide/raw_data/requests/{address}_{suffix}.json', 'w') as outfile:\n",
    "        json.dump(dict(zip(df_requests['id'], df_requests['request'])), outfile)\n",
    "\n",
    "    data = pd.concat(df_list, sort = True)\n",
    "    data.loc[data['cuisines'] == '[]'] = None\n",
    "\n",
    "    data = data[rules_of_naming['restaurants']]\n",
    "    data.to_csv(f'D:/data_projects/japanFood_worldwide/raw_data/data_tables/{address}_{suffix}_v2.csv', index = None)"
   ]
  },
  {
   "cell_type": "code",
   "execution_count": 19,
   "metadata": {},
   "outputs": [],
   "source": [
    "def get_bbox(row):\n",
    "    \"\"\"\n",
    "    Get bbox out of row\n",
    "    \"\"\"\n",
    "    bbox = {'miny' : row.miny, 'minx' : row.minx, 'maxy' : row.maxy, 'maxx' : row.maxx}\n",
    "    return bbox"
   ]
  },
  {
   "cell_type": "code",
   "execution_count": null,
   "metadata": {},
   "outputs": [],
   "source": [
    "cities_location = []\n",
    "for i, city in cities_list.iterrows():\n",
    "    address = f\"{city['city']}, {city['country']}\"\n",
    "    centroid = city.geometry.centroid\n",
    "#     lat, lon = city['lat'], city['lon']\n",
    "    lat, lon = centroid.y, centroid.x\n",
    "    longitude_step = lon_step(lat, CELL_SIDE)\n",
    "#     bbox = city['bbox']\n",
    "    bbox = get_bbox(city)\n",
    "#     break\n",
    "    grid = createGrid(bbox, LAT_STEP, longitude_step)\n",
    "    \n",
    "    cities_location.append([city['city'], city['country'], city['region'], city['population'], lat, lon])\n",
    "    \n",
    "    df_list = []\n",
    "    request_list = []\n",
    "    for i, row in grid.iterrows():\n",
    "        maxx = row.maxx\n",
    "        maxy = row.maxy\n",
    "        minx = row.minx\n",
    "        miny = row.miny\n",
    "\n",
    "\n",
    "        try:\n",
    "            ta_result = trip_request(miny, minx, maxy, maxx) \n",
    "            request_list.append([row.id, ta_result])\n",
    "        except Exception as e:\n",
    "            print (e)\n",
    "#         for major_cat in ['hotels', 'restaurants', 'attractions']:\n",
    "        for major_cat in ['restaurants']:\n",
    "            objects = ta_result[major_cat]\n",
    "            table = []\n",
    "            for obj in objects:\n",
    "                try:\n",
    "                    current_datum = basic_parce(obj) + selective_parce(obj, major_cat)\n",
    "                    table.append(current_datum)\n",
    "                except Exception as e:\n",
    "                    print(e)\n",
    "            df_list.append(pd.DataFrame(table, columns = rules_of_naming[major_cat]))\n",
    "\n",
    "\n",
    "        if i % 100 == 0 and i != 0:\n",
    "            time.sleep(3)\n",
    "            print(f'Prelimnary export for {address.title()}')\n",
    "            exports(request_list, df_list, address, prelimnary = True)\n",
    "\n",
    "    exports(request_list, df_list, address, prelimnary = False)\n",
    "    \n",
    "    print(f'{address.title()} ✅')\n",
    "       \n",
    "    \n",
    "pd.DataFrame(\n",
    "    cities_location, columns = ['city', 'country', 'region', 'population', 'lat', 'lon']).to_csv(f'D:/data_projects/japanFood_worldwide/gecoded_cities_{reg}.csv', index = None)"
   ]
  }
 ],
 "metadata": {
  "kernelspec": {
   "display_name": "Python 3",
   "language": "python",
   "name": "python3"
  },
  "language_info": {
   "codemirror_mode": {
    "name": "ipython",
    "version": 3
   },
   "file_extension": ".py",
   "mimetype": "text/x-python",
   "name": "python",
   "nbconvert_exporter": "python",
   "pygments_lexer": "ipython3",
   "version": "3.7.3"
  }
 },
 "nbformat": 4,
 "nbformat_minor": 4
}
